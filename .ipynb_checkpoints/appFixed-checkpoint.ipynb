{
 "cells": [
  {
   "cell_type": "code",
   "execution_count": null,
   "metadata": {},
   "outputs": [],
   "source": [
    "from flask import Flask, render_template, request\n",
    "from tensorflow.keras.preprocessing.image import img_to_array\n",
    "import tensorflow as tf\n",
    "import numpy as np\n",
    "import cv2\n",
    "from keras.models import load_model\n",
    "\n",
    "import webbrowser\n"
   ]
  },
  {
   "cell_type": "code",
   "execution_count": null,
   "metadata": {},
   "outputs": [],
   "source": [
    "\n",
    "app = Flask(__name__)\n",
    "\n",
    "app.config['SEND_FILE_MAX_AGE_DEFAULT'] = 1\n",
    "\n",
    "info = {}\n",
    "\n",
    "haarcascade = \"haarcascade_frontalface_default.xml\"\n",
    "label_map = ['Anger', 'Neutral', 'Fear', 'Happy', 'Sad', 'Surprise']\n",
    "print(\"+\"*50, \"loadin gmmodel\")\n",
    "model = tf.keras.models.load_model('model.h5')\n",
    "cascade = cv2.CascadeClassifier(haarcascade)\n"
   ]
  },
  {
   "cell_type": "code",
   "execution_count": null,
   "metadata": {},
   "outputs": [],
   "source": [
    "\n",
    "@app.route('/')\n",
    "def index():\n",
    "\treturn render_template('index.html')\n",
    "\n",
    "@app.route('/choose_singer', methods = [\"POST\"])\n",
    "def choose_singer():\n",
    "\tinfo['language'] = request.form['language']\n",
    "\tprint(info)\n",
    "\treturn render_template('choose_singer.html', data = info['language'])\n",
    "\n",
    "\n",
    "@app.route('/emotion_detect', methods=[\"POST\"])\n",
    "def emotion_detect():\n",
    "\tinfo['singer'] = request.form['singer']\n",
    "\n",
    "\tfound = False\n",
    "\n",
    "\tcap = cv2.VideoCapture(0)\n",
    "\twhile not(found):\n",
    "\t\t_, frm = cap.read()\n",
    "\t\tgray = cv2.cvtColor(frm,cv2.COLOR_BGR2GRAY)\n",
    "\n",
    "\t\tfaces = cascade.detectMultiScale(gray, 1.4, 1)\n",
    "\n",
    "\t\tfor x,y,w,h in faces:\n",
    "\t\t\tfound = True\n",
    "\t\t\troi = gray[y:y+h, x:x+w]\n",
    "\t\t\tcv2.imwrite(\"static/face.jpg\", roi)\n",
    "\n",
    "\troi = cv2.resize(roi, (48,48))\n",
    "\n",
    "\troi = roi/255.0\n",
    "\t\n",
    "\troi = np.reshape(roi, (1,48,48,1))\n",
    "    print(roi)\n",
    "\n",
    "# \tprediction = model.predict(roi)\n",
    "\n",
    "# \tprint(prediction)\n",
    "\n",
    "# \tprediction = np.argmax(prediction)\n",
    "# \tprediction = label_map[prediction]\n",
    "\n",
    "# \tcap.release()\n",
    "\n",
    "# \tlink  = f\"https://www.youtube.com/results?search_query={info['singer']}+{prediction}+{info['language']}+song\"\n",
    "# \twebbrowser.open(link)\n",
    "\n",
    "# \treturn render_template(\"emotion_detect.html\", data=prediction, link=link)\n",
    "\n",
    "if __name__ == \"__main__\":\n",
    "\tapp.run(debug=True, use_reloader=False)\n",
    "    "
   ]
  },
  {
   "cell_type": "code",
   "execution_count": null,
   "metadata": {},
   "outputs": [],
   "source": []
  },
  {
   "cell_type": "code",
   "execution_count": null,
   "metadata": {},
   "outputs": [],
   "source": [
    "model = tf.keras.models.load_model('model.h5')\n"
   ]
  },
  {
   "cell_type": "code",
   "execution_count": null,
   "metadata": {},
   "outputs": [],
   "source": []
  }
 ],
 "metadata": {
  "kernelspec": {
   "display_name": "Python 3 (ipykernel)",
   "language": "python",
   "name": "python3"
  },
  "language_info": {
   "codemirror_mode": {
    "name": "ipython",
    "version": 3
   },
   "file_extension": ".py",
   "mimetype": "text/x-python",
   "name": "python",
   "nbconvert_exporter": "python",
   "pygments_lexer": "ipython3",
   "version": "3.8.3"
  }
 },
 "nbformat": 4,
 "nbformat_minor": 2
}
